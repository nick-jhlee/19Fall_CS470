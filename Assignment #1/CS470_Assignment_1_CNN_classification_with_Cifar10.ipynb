{
  "nbformat": 4,
  "nbformat_minor": 0,
  "metadata": {
    "colab": {
      "name": "CS470 Assignment #1: CNN classification with Cifar10",
      "provenance": [],
      "collapsed_sections": []
    },
    "kernelspec": {
      "name": "python3",
      "display_name": "Python 3"
    },
    "accelerator": "GPU"
  },
  "cells": [
    {
      "cell_type": "markdown",
      "metadata": {
        "id": "PRqPMAzzNipD",
        "colab_type": "text"
      },
      "source": [
        "CS470 Assignment #1: CNN classification with Cifar10\n",
        "====\n",
        "\n",
        "Primary TA : Myeongjae Jang\n",
        "\n",
        "TA's E-mail : myeongjae0409@kaist.ac.kr\n",
        "\n",
        "## Instruction\n",
        "\n",
        "- Modify the baseline CNN model to improve the classification performance on Cifar10 dataset. In addition to the model definition, you can modify any parts of this colab example to improve the test accuracy (e.g., learning rate, batch size, etc.)\n",
        "- Train your CNN model and compare it to the baseline (in terms of training loss and the test accuracy).\n",
        "- Explain your modifications and discuss how you improved the test accuracy.\n",
        "\n",
        "## Submission guidelines\n",
        "\n",
        "- Your code and report will be all in Colab. Copy this example to your google drive and edit it to complete your assignment. Add sections at the bottom of this example to discuss the results. For discussion and analysis, we highly encourage you to use graphics if possible (e.g., plots, images, etc.). \n",
        "- To make grading efficient, please highlight all contributions & modifications you made clearly. We highly encourage you to add code blocks in the discussion section to discuss your modifications (e.g., you can describe the model definition in the discussion section using the code blocks).\n",
        "- We should be able to reproduce your results using your code and pre-trained model. Please double-check if your code runs without error and loads your pre-trained model properly. Submissions failed to run or reproduce the results will get a substantial penalty. \n",
        "- In this assignment, **we are not allowing fine-tuning from the pre-trained model** (e.g. ImageNet pre-trained models). You should train your  model on Cifar10 dataset from scratch. \n",
        "\n",
        "## Deliverables\n",
        "- Download your Colab notebook and the pre-trained model, and submit a zip file in a format: [StudentID].zip. Please double-check that you locate and load your pre-trained model properly.\n",
        "- Your assignment should be submitted through KLMS. All other submissions (e.g., via email) will not be considered as valid submissions. \n",
        "\n",
        "## Grading policy\n",
        "\n",
        "- **Code** (50%): Your code should work and outperform the baseline model in terms of the test accuracy. \n",
        "- **Report** (50%): Explain your modification and justify how it improved the perofrmance. It would be great if you have some supporting results for your justification (e.g., justifying that you resolved the overfitting by comparing two training/testing loss curves). \n",
        "- **Extra points** will be given if your submission satisfies the following:\n",
        " - **High test accuracy**: we will rank the submissions based on the test accuracy, and assign extra points according to the rank (e.g. 3 points for top 10%, 2 points for top 30%, 1 points for top 50%.)\n",
        " - **Comprehensive discussion**: we will assign extra points if your report contains comprehensive discussion/analysis of the results. Examples include justification of your choice of model (or hyper-parameters), comparisons to the baseline model (analysis on the source of improvement), insightful visualizations (loss curves, misclassification results), etc.\n",
        "\n",
        "## Due date\n",
        "- **23:59:59 September 25th.**\n",
        "- Late submission is allowed until 23:59:59 September 27th.\n",
        "- Late submission will be applied 20% penalty.\n",
        "\n",
        "## Questions\n",
        "- Please use QnA board in KLMS as a main communication channel. When you post questions, please make it public so that all students can share the information. Please use the prefix \"[Assignment 1]\" in the subject for all questions regarding this assignment (e.g., [Assignment 1] Regarding the grading policy).\n",
        "\n",
        "## PyTorch Documentation\n",
        "- You can refer PyTorch documentation for your assignment.\n",
        "- https://pytorch.org/docs/stable/index.html\n",
        "\n"
      ]
    },
    {
      "cell_type": "markdown",
      "metadata": {
        "id": "RO1mgGV_uOIK",
        "colab_type": "text"
      },
      "source": [
        "## Step 1: Connect to your Google Drive\n",
        "\n",
        "It is required if you want to save checkpoints and load them later on.\n",
        "\n",
        "### (You have to submit your trained results as the checkpoint. So, please check your Google Drive connection again.)"
      ]
    },
    {
      "cell_type": "code",
      "metadata": {
        "id": "cLth6ZfXuSGT",
        "colab_type": "code",
        "outputId": "6d89f435-521e-4df4-9bbb-3a841d221e2f",
        "colab": {
          "base_uri": "https://localhost:8080/",
          "height": 34
        }
      },
      "source": [
        "from google.colab import drive\n",
        "\n",
        "drive.mount('/gdrive')\n",
        "gdrive_root = '/gdrive/My Drive'"
      ],
      "execution_count": 1,
      "outputs": [
        {
          "output_type": "stream",
          "text": [
            "Drive already mounted at /gdrive; to attempt to forcibly remount, call drive.mount(\"/gdrive\", force_remount=True).\n"
          ],
          "name": "stdout"
        }
      ]
    },
    {
      "cell_type": "markdown",
      "metadata": {
        "id": "RYwUwGf8qW1U",
        "colab_type": "text"
      },
      "source": [
        "## Step 2: Import modules"
      ]
    },
    {
      "cell_type": "code",
      "metadata": {
        "id": "3UtshANjqpy4",
        "colab_type": "code",
        "outputId": "0ce40d7f-3241-4040-ce6b-a6b80cf2a3e5",
        "colab": {
          "base_uri": "https://localhost:8080/",
          "height": 51
        }
      },
      "source": [
        "import os\n",
        "\n",
        "import torch\n",
        "import torch.optim as optim\n",
        "import torch.nn as nn\n",
        "import torch.nn.functional as F\n",
        "from torch.utils.data import DataLoader\n",
        "import torchvision\n",
        "from torchvision import transforms\n",
        "\n",
        "!pip install -U tensorboardcolab\n",
        "from tensorboardcolab import TensorBoardColab\n",
        "\n",
        "torch.manual_seed(470)\n",
        "torch.cuda.manual_seed(470)"
      ],
      "execution_count": 2,
      "outputs": [
        {
          "output_type": "stream",
          "text": [
            "Requirement already up-to-date: tensorboardcolab in /usr/local/lib/python3.6/dist-packages (0.0.22)\n"
          ],
          "name": "stdout"
        },
        {
          "output_type": "stream",
          "text": [
            "Using TensorFlow backend.\n"
          ],
          "name": "stderr"
        }
      ]
    },
    {
      "cell_type": "markdown",
      "metadata": {
        "id": "0iJ-Q6sbq8c3",
        "colab_type": "text"
      },
      "source": [
        "## Step 3: Configure the experiments"
      ]
    },
    {
      "cell_type": "code",
      "metadata": {
        "id": "fA5jAy7Wq-E2",
        "colab_type": "code",
        "outputId": "1ff8c609-ca2c-44e4-dae4-6668717f8b86",
        "colab": {
          "base_uri": "https://localhost:8080/",
          "height": 68
        }
      },
      "source": [
        "# training & optimization hyper-parameters\n",
        "max_epoch = 20\n",
        "learning_rate = 0.001\n",
        "\n",
        "# My modification\n",
        "# batch_size = 20000 <--- Original code\n",
        "batch_size = 18\n",
        "\n",
        "device = 'cuda'\n",
        "\n",
        "# model hyper-parameters\n",
        "output_dim = 10 \n",
        "\n",
        "# Boolean value to select training process\n",
        "training_process = True\n",
        "\n",
        "# initialize tensorboard for visualization\n",
        "# Note : click the Tensorboard link to see the visualization of training/testing results\n",
        "tbc = TensorBoardColab()"
      ],
      "execution_count": 19,
      "outputs": [
        {
          "output_type": "stream",
          "text": [
            "Wait for 8 seconds...\n",
            "TensorBoard link:\n",
            "https://24e99c67.ngrok.io\n"
          ],
          "name": "stdout"
        }
      ]
    },
    {
      "cell_type": "markdown",
      "metadata": {
        "id": "2tZt60aMrQ1g",
        "colab_type": "text"
      },
      "source": [
        "## Step 4: Construct data pipeline\n",
        "\n",
        "**`torchvision.datasets.CIFAR10`** will automatically construct **`Cifar10`** dataset."
      ]
    },
    {
      "cell_type": "code",
      "metadata": {
        "id": "aHbtV46LrXOF",
        "colab_type": "code",
        "outputId": "8ace8499-8c23-4f29-ff7e-fe664f6c2347",
        "colab": {
          "base_uri": "https://localhost:8080/",
          "height": 51
        }
      },
      "source": [
        "data_dir = os.path.join(gdrive_root, 'my_data')\n",
        "\n",
        "transform = transforms.Compose(\n",
        "    [transforms.ToTensor(),\n",
        "     transforms.Normalize((0.5, 0.5, 0.5), (0.5, 0.5, 0.5))])\n",
        "\n",
        "train_dataset = torchvision.datasets.CIFAR10(root=data_dir, train=True, download=True, transform=transform)\n",
        "train_dataloader = torch.utils.data.DataLoader(train_dataset, batch_size=batch_size, shuffle=True, num_workers=2)\n",
        "\n",
        "test_dataset = torchvision.datasets.CIFAR10(root=data_dir, train=False, download=True, transform=transform)\n",
        "test_dataloader = torch.utils.data.DataLoader(test_dataset, batch_size=batch_size, shuffle=False, num_workers=2)\n",
        "\n",
        "classes = ('plane', 'car', 'bird', 'cat', 'deer', 'dog', 'frog', 'horse', 'ship', 'truck')"
      ],
      "execution_count": 20,
      "outputs": [
        {
          "output_type": "stream",
          "text": [
            "Files already downloaded and verified\n",
            "Files already downloaded and verified\n"
          ],
          "name": "stdout"
        }
      ]
    },
    {
      "cell_type": "markdown",
      "metadata": {
        "id": "6G_dWd-6rwWb",
        "colab_type": "text"
      },
      "source": [
        "## Step 5: Construct a neural network builder\n",
        "\n",
        "We serve the baseline CNN model which is supported on Pytorch tutorial: https://colab.research.google.com/github/pytorch/tutorials/blob/gh-pages/_downloads/cifar10_tutorial.ipynb#scrollTo=c1E1b7-igUcR\n",
        "\n",
        "### (You have to compare your own CNN model's test accuracy with the baseline CNN model and explain why your own model's test accuracy is higher than the basline.)"
      ]
    },
    {
      "cell_type": "code",
      "metadata": {
        "id": "FX_wne0Vr1E5",
        "colab_type": "code",
        "colab": {}
      },
      "source": [
        "class MyClassifier(nn.Module):\n",
        "  def __init__(self):\n",
        "        super(MyClassifier, self).__init__()\n",
        "        self.conv1 = nn.Conv2d(in_channels=3, out_channels=6, kernel_size=5)\n",
        "        self.batchnorm1 = nn.BatchNorm2d(num_features=6)\n",
        "        self.relu = nn.ReLU()\n",
        "        self.pool = nn.MaxPool2d(kernel_size=2, stride=2)\n",
        "        self.conv2 = nn.Conv2d(in_channels=6, out_channels=16, kernel_size=3)\n",
        "        self.conv3 = nn.Conv2d(in_channels=16, out_channels=32, kernel_size=3)\n",
        "        self.batchnorm3 = nn.BatchNorm2d(num_features=32)\n",
        "        self.conv4 = nn.Conv2d(in_channels=32, out_channels=64, kernel_size=1)\n",
        "        self.fc1 = nn.Linear(in_features=64 * 1 * 1, out_features=64)\n",
        "        self.fc2 = nn.Linear(in_features=64, out_features=output_dim)\n",
        "\n",
        "  def forward(self, x):\n",
        "      x = self.pool(self.relu(self.batchnorm1(self.conv1(x))))\n",
        "      x = self.pool(self.relu(self.conv2(x)))\n",
        "      x = self.pool(self.relu(self.batchnorm3(self.conv3(x))))\n",
        "      x = self.pool(self.relu(self.conv4(x)))\n",
        "      x = x.view(-1, 64 * 1 * 1)\n",
        "      x = self.relu(self.fc1(x))\n",
        "      outputs = self.fc2(x)\n",
        "      return outputs"
      ],
      "execution_count": 0,
      "outputs": []
    },
    {
      "cell_type": "code",
      "metadata": {
        "id": "Z5M7IhbmeguX",
        "colab_type": "code",
        "colab": {}
      },
      "source": [
        ""
      ],
      "execution_count": 0,
      "outputs": []
    },
    {
      "cell_type": "markdown",
      "metadata": {
        "id": "YpA3xhjMspvA",
        "colab_type": "text"
      },
      "source": [
        "## Step 6: Initialize the network and optimizer\n",
        "\n",
        "If you want to train modularized neural network in Step 5B, please use 'MyClassifier2' as 'my_classifier'. It is written as a comment now."
      ]
    },
    {
      "cell_type": "code",
      "metadata": {
        "id": "XP111gW0s8aH",
        "colab_type": "code",
        "outputId": "57bed942-71fd-49df-83b6-43275851cf69",
        "colab": {
          "base_uri": "https://localhost:8080/",
          "height": 221
        }
      },
      "source": [
        "my_classifier = MyClassifier()\n",
        "my_classifier = my_classifier.to(device)\n",
        "\n",
        "# Print your neural network structure\n",
        "print(my_classifier)\n",
        "\n",
        "optimizer = optim.Adam(my_classifier.parameters(), lr=learning_rate)\n"
      ],
      "execution_count": 6,
      "outputs": [
        {
          "output_type": "stream",
          "text": [
            "MyClassifier(\n",
            "  (conv1): Conv2d(3, 6, kernel_size=(5, 5), stride=(1, 1))\n",
            "  (batchnorm1): BatchNorm2d(6, eps=1e-05, momentum=0.1, affine=True, track_running_stats=True)\n",
            "  (relu): ReLU()\n",
            "  (pool): MaxPool2d(kernel_size=2, stride=2, padding=0, dilation=1, ceil_mode=False)\n",
            "  (conv2): Conv2d(6, 16, kernel_size=(3, 3), stride=(1, 1))\n",
            "  (conv3): Conv2d(16, 32, kernel_size=(3, 3), stride=(1, 1))\n",
            "  (batchnorm3): BatchNorm2d(32, eps=1e-05, momentum=0.1, affine=True, track_running_stats=True)\n",
            "  (conv4): Conv2d(32, 64, kernel_size=(1, 1), stride=(1, 1))\n",
            "  (fc1): Linear(in_features=64, out_features=64, bias=True)\n",
            "  (fc2): Linear(in_features=64, out_features=10, bias=True)\n",
            ")\n"
          ],
          "name": "stdout"
        }
      ]
    },
    {
      "cell_type": "markdown",
      "metadata": {
        "id": "8lAQeXmjsILS",
        "colab_type": "text"
      },
      "source": [
        "## Step 7: Load pre-trained weights if exist\n",
        "\n",
        "- **For your submission you have to store the trained model as a checkpoint.**\n",
        "- Please do not erase this step.\n",
        "- If you want to modify this step, please be careful.\n",
        "- After training please confirm that your checkpoint is correctly stored and re-loaded."
      ]
    },
    {
      "cell_type": "code",
      "metadata": {
        "id": "hFLNZxaBsHUl",
        "colab_type": "code",
        "outputId": "386adfbf-97aa-44b4-aff5-68b6b3fba189",
        "colab": {
          "base_uri": "https://localhost:8080/",
          "height": 51
        }
      },
      "source": [
        "ckpt_dir = os.path.join(gdrive_root, 'checkpoints')\n",
        "if not os.path.exists(ckpt_dir):\n",
        "  os.makedirs(ckpt_dir)\n",
        "  \n",
        "best_acc = 0.\n",
        "ckpt_path = os.path.join(ckpt_dir, 'lastest.pt')\n",
        "if os.path.exists(ckpt_path):\n",
        "  ckpt = torch.load(ckpt_path)\n",
        "  try:\n",
        "    my_classifier.load_state_dict(ckpt['my_classifier'])\n",
        "    optimizer.load_state_dict(ckpt['optimizer'])\n",
        "    best_acc = ckpt['best_acc']\n",
        "  except RuntimeError as e:\n",
        "      print('wrong checkpoint')\n",
        "  else:    \n",
        "    print('checkpoint is loaded !')\n",
        "    print('current best accuracy : %.2f' % best_acc)"
      ],
      "execution_count": 22,
      "outputs": [
        {
          "output_type": "stream",
          "text": [
            "checkpoint is loaded !\n",
            "current best accuracy : 0.84\n"
          ],
          "name": "stdout"
        }
      ]
    },
    {
      "cell_type": "markdown",
      "metadata": {
        "id": "Z1t7n6yttNEc",
        "colab_type": "text"
      },
      "source": [
        "## Step 8: Train the network\n",
        "\n",
        "Note : It would be better to save checkpoints periodically, otherwise you'll lose everything you've trained if the session is recycled."
      ]
    },
    {
      "cell_type": "code",
      "metadata": {
        "id": "9vczdKbytV38",
        "colab_type": "code",
        "outputId": "82818417-2693-483d-f576-776e0be08131",
        "colab": {
          "base_uri": "https://localhost:8080/",
          "height": 901
        }
      },
      "source": [
        "if training_process:\n",
        "  it = 0\n",
        "  train_losses = []\n",
        "  test_losses = []\n",
        "  for epoch in range(max_epoch):\n",
        "    # train phase\n",
        "    my_classifier.train()\n",
        "    for inputs, labels in train_dataloader:\n",
        "      it += 1\n",
        "\n",
        "      # load data to the GPU.\n",
        "      inputs = inputs.to(device)\n",
        "      labels = labels.to(device)\n",
        "\n",
        "      # feed data into the network and get outputs.\n",
        "      logits = my_classifier(inputs)\n",
        "\n",
        "      # calculate loss\n",
        "      # Note: `F.cross_entropy` function receives logits, or pre-softmax outputs, rather than final probability scores.\n",
        "      loss = F.cross_entropy(logits, labels)\n",
        "\n",
        "      # Note: You should flush out gradients computed at the previous step before computing gradients at the current step. \n",
        "      #       Otherwise, gradients will accumulate.\n",
        "      optimizer.zero_grad()\n",
        "\n",
        "      # backprogate loss.\n",
        "      loss.backward()\n",
        "\n",
        "      # update the weights in the network.\n",
        "      optimizer.step()\n",
        "\n",
        "      # calculate accuracy.\n",
        "      acc = (logits.argmax(dim=1) == labels).float().mean()\n",
        "\n",
        "      if it % 2000 == 0:\n",
        "        tbc.save_value('Loss', 'train_loss', it, loss.item())\n",
        "        print('[epoch:{}, iteration:{}] train loss : {:.4f} train accuracy : {:.4f}'.format(epoch, it, loss.item(), acc.item()))\n",
        "\n",
        "    # save losses in a list so that we can visualize them later.\n",
        "    train_losses.append(loss)  \n",
        "\n",
        "    # test phase\n",
        "    n = 0.\n",
        "    test_loss = 0.\n",
        "    test_acc = 0.\n",
        "    my_classifier.eval()\n",
        "    for test_inputs, test_labels in test_dataloader:\n",
        "      test_inputs = test_inputs.to(device)\n",
        "      test_labels = test_labels.to(device)\n",
        "\n",
        "      logits = my_classifier(test_inputs)\n",
        "      test_loss += F.cross_entropy(logits, test_labels, reduction='sum').item()\n",
        "      test_acc += (logits.argmax(dim=1) == test_labels).float().sum().item()\n",
        "      n += inputs.size(0)\n",
        "\n",
        "    test_loss /= n\n",
        "    test_acc /= n\n",
        "    test_losses.append(test_loss)\n",
        "    tbc.save_value('Loss', 'test_loss', it, test_loss)\n",
        "    print('[epoch:{}, iteration:{}] test_loss : {:.4f} test accuracy : {:.4f}'.format(epoch, it, test_loss, test_acc)) \n",
        "\n",
        "    tbc.flush_line('train_loss')\n",
        "    tbc.flush_line('test_loss')\n",
        "\n",
        "    # save checkpoint whenever there is improvement in performance\n",
        "    if test_acc > best_acc:\n",
        "      best_acc = test_acc\n",
        "      # Note: optimizer also has states ! don't forget to save them as well.\n",
        "      ckpt = {'my_classifier':my_classifier.state_dict(),\n",
        "              'optimizer':optimizer.state_dict(),\n",
        "              'best_acc':best_acc}\n",
        "      torch.save(ckpt, ckpt_path)\n",
        "      print('checkpoint is saved !')\n",
        "    \n",
        "tbc.close()"
      ],
      "execution_count": 8,
      "outputs": [
        {
          "output_type": "stream",
          "text": [
            "WARNING:tensorflow:From /usr/local/lib/python3.6/dist-packages/tensorboardcolab/core.py:49: The name tf.summary.FileWriter is deprecated. Please use tf.compat.v1.summary.FileWriter instead.\n",
            "\n",
            "WARNING:tensorflow:From /usr/local/lib/python3.6/dist-packages/tensorboardcolab/core.py:101: The name tf.Summary is deprecated. Please use tf.compat.v1.Summary instead.\n",
            "\n",
            "[epoch:0, iteration:2000] train loss : 1.3674 train accuracy : 0.4444\n",
            "[epoch:0, iteration:2778] test_loss : 1.3600 test accuracy : 0.8165\n",
            "[epoch:1, iteration:4000] train loss : 0.8239 train accuracy : 0.6667\n",
            "[epoch:1, iteration:5556] test_loss : 1.3395 test accuracy : 0.8246\n",
            "[epoch:2, iteration:6000] train loss : 0.8786 train accuracy : 0.6111\n",
            "[epoch:2, iteration:8000] train loss : 0.8532 train accuracy : 0.7778\n",
            "[epoch:2, iteration:8334] test_loss : 1.3374 test accuracy : 0.8234\n",
            "[epoch:3, iteration:10000] train loss : 0.7807 train accuracy : 0.7222\n",
            "[epoch:3, iteration:11112] test_loss : 1.3282 test accuracy : 0.8263\n",
            "[epoch:4, iteration:12000] train loss : 0.3357 train accuracy : 0.8889\n",
            "[epoch:4, iteration:13890] test_loss : 1.3403 test accuracy : 0.8262\n",
            "[epoch:5, iteration:14000] train loss : 1.1688 train accuracy : 0.7222\n",
            "[epoch:5, iteration:16000] train loss : 0.8268 train accuracy : 0.6111\n",
            "[epoch:5, iteration:16668] test_loss : 1.3433 test accuracy : 0.8291\n",
            "[epoch:6, iteration:18000] train loss : 0.7550 train accuracy : 0.7222\n",
            "[epoch:6, iteration:19446] test_loss : 1.3016 test accuracy : 0.8370\n",
            "checkpoint is saved !\n",
            "[epoch:7, iteration:20000] train loss : 0.6013 train accuracy : 0.8333\n",
            "[epoch:7, iteration:22000] train loss : 1.0191 train accuracy : 0.6111\n",
            "[epoch:7, iteration:22224] test_loss : 1.3300 test accuracy : 0.8326\n",
            "[epoch:8, iteration:24000] train loss : 0.5541 train accuracy : 0.7778\n",
            "[epoch:8, iteration:25002] test_loss : 1.3258 test accuracy : 0.8295\n",
            "[epoch:9, iteration:26000] train loss : 0.8931 train accuracy : 0.7222\n",
            "[epoch:9, iteration:27780] test_loss : 1.3150 test accuracy : 0.8289\n",
            "[epoch:10, iteration:28000] train loss : 1.0763 train accuracy : 0.7222\n",
            "[epoch:10, iteration:30000] train loss : 1.0155 train accuracy : 0.6667\n",
            "[epoch:10, iteration:30558] test_loss : 1.3530 test accuracy : 0.8221\n",
            "[epoch:11, iteration:32000] train loss : 1.1474 train accuracy : 0.6667\n",
            "[epoch:11, iteration:33336] test_loss : 1.3648 test accuracy : 0.8231\n",
            "[epoch:12, iteration:34000] train loss : 0.7002 train accuracy : 0.7222\n",
            "[epoch:12, iteration:36000] train loss : 0.5949 train accuracy : 0.8889\n",
            "[epoch:12, iteration:36114] test_loss : 1.3255 test accuracy : 0.8334\n",
            "[epoch:13, iteration:38000] train loss : 0.7354 train accuracy : 0.7222\n",
            "[epoch:13, iteration:38892] test_loss : 1.3626 test accuracy : 0.8240\n",
            "[epoch:14, iteration:40000] train loss : 0.6993 train accuracy : 0.7222\n",
            "[epoch:14, iteration:41670] test_loss : 1.3499 test accuracy : 0.8253\n",
            "[epoch:15, iteration:42000] train loss : 0.7942 train accuracy : 0.6667\n",
            "[epoch:15, iteration:44000] train loss : 0.4864 train accuracy : 0.8333\n",
            "[epoch:15, iteration:44448] test_loss : 1.3345 test accuracy : 0.8295\n",
            "[epoch:16, iteration:46000] train loss : 0.6438 train accuracy : 0.7222\n",
            "[epoch:16, iteration:47226] test_loss : 1.3599 test accuracy : 0.8282\n",
            "[epoch:17, iteration:48000] train loss : 1.4730 train accuracy : 0.4444\n",
            "[epoch:17, iteration:50000] train loss : 0.8576 train accuracy : 0.7778\n",
            "[epoch:17, iteration:50004] test_loss : 1.3419 test accuracy : 0.8261\n",
            "[epoch:18, iteration:52000] train loss : 1.0811 train accuracy : 0.6111\n",
            "[epoch:18, iteration:52782] test_loss : 1.3340 test accuracy : 0.8285\n",
            "[epoch:19, iteration:54000] train loss : 1.0884 train accuracy : 0.5000\n",
            "[epoch:19, iteration:55560] test_loss : 1.3472 test accuracy : 0.8270\n"
          ],
          "name": "stdout"
        }
      ]
    },
    {
      "cell_type": "markdown",
      "metadata": {
        "id": "ECu3yS0OvfoR",
        "colab_type": "text"
      },
      "source": [
        "## Step 9: Visualize and analyze the results"
      ]
    },
    {
      "cell_type": "code",
      "metadata": {
        "id": "G89sqVp-vLRy",
        "colab_type": "code",
        "outputId": "9d3964c5-64dd-4ca0-f11d-9a120f4d3cd7",
        "colab": {
          "base_uri": "https://localhost:8080/",
          "height": 286
        }
      },
      "source": [
        "import matplotlib.pyplot as plt\n",
        "\n",
        "plt.plot(train_losses, label='train loss')\n",
        "plt.plot(test_losses, label='test loss')\n",
        "plt.legend()\n",
        "\n",
        "# Re-load trained model\n",
        "my_classifier.load_state_dict(ckpt['my_classifier'])\n",
        "optimizer.load_state_dict(ckpt['optimizer'])\n",
        "\n",
        "# Testing\n",
        "n = 0.\n",
        "test_loss = 0.\n",
        "test_acc = 0.\n",
        "my_classifier.eval()\n",
        "for test_inputs, test_labels in test_dataloader:\n",
        "  test_inputs = test_inputs.to(device)\n",
        "  test_labels = test_labels.to(device)\n",
        "\n",
        "  logits = my_classifier(test_inputs)\n",
        "  test_loss += F.cross_entropy(logits, test_labels, reduction='sum')\n",
        "  test_acc += (logits.argmax(dim=1) == test_labels).float().sum()\n",
        "  n += inputs.size(0)\n",
        "\n",
        "test_loss /= n\n",
        "test_acc /= n\n",
        "print('Test_loss : {:.4f}, Test accuracy : {:.4f}'.format(test_loss.item(), test_acc.item())) "
      ],
      "execution_count": 9,
      "outputs": [
        {
          "output_type": "stream",
          "text": [
            "Test_loss : 1.3472, Test accuracy : 0.8270\n"
          ],
          "name": "stdout"
        },
        {
          "output_type": "display_data",
          "data": {
            "image/png": "[encoded data removed]",
            "text/plain": [
              "<Figure size 432x288 with 1 Axes>"
            ]
          },
          "metadata": {
            "tags": []
          }
        }
      ]
    },
    {
      "cell_type": "code",
      "metadata": {
        "id": "KHjD9SGrvhzc",
        "colab_type": "code",
        "outputId": "67f6d1ee-8d18-4d80-c4fd-43f4cc982805",
        "colab": {
          "base_uri": "https://localhost:8080/",
          "height": 303
        }
      },
      "source": [
        "import random\n",
        "\n",
        "import matplotlib.pyplot as plt\n",
        "import numpy as np\n",
        "\n",
        "my_classifier.eval()\n",
        "\n",
        "num_test_samples = len(test_dataset)\n",
        "random_idx = random.randint(0, num_test_samples)\n",
        "\n",
        "test_input, test_label = test_dataset.__getitem__(random_idx)\n",
        "test_prediction = F.softmax(my_classifier(test_input.unsqueeze(0).to(device)), dim=1).argmax().item()\n",
        "print('label : %s' % classes[test_label])\n",
        "print('prediction : %s' % classes[test_prediction])\n",
        "\n",
        "# functions to show an image\n",
        "def imshow(img):\n",
        "    img = img / 2 + 0.5     # unnormalize\n",
        "    npimg = img.numpy()\n",
        "    plt.imshow(np.transpose(npimg, (1, 2, 0)))\n",
        "\n",
        "# show images\n",
        "imshow(torchvision.utils.make_grid(test_input))"
      ],
      "execution_count": 18,
      "outputs": [
        {
          "output_type": "stream",
          "text": [
            "label : ship\n",
            "prediction : ship\n"
          ],
          "name": "stdout"
        },
        {
          "output_type": "display_data",
          "data": {
            "image/png": "[encoded data removed]",
            "text/plain": [
              "<Figure size 432x288 with 1 Axes>"
            ]
          },
          "metadata": {
            "tags": []
          }
        }
      ]
    },
    {
      "cell_type": "markdown",
      "metadata": {
        "id": "BwcY8z_C2QLA",
        "colab_type": "text"
      },
      "source": [
        "# <font color=\"blue\"> Discussion and Analysis </font>"
      ]
    },
    {
      "cell_type": "markdown",
      "metadata": {
        "id": "v2W0ZtF82Xyb",
        "colab_type": "text"
      },
      "source": [
        "First, let us briefly summarize/analyze our baseline model."
      ]
    },
    {
      "cell_type": "markdown",
      "metadata": {
        "id": "5hETE3K0qNn-",
        "colab_type": "text"
      },
      "source": [
        "This part is where the experiment is configured i.e. where the training/optimization/model hyper-parameters are set.\n",
        "\n",
        "Note that our batch_size (to be used in our batch learning later on.) is huge - 20000."
      ]
    },
    {
      "cell_type": "code",
      "metadata": {
        "id": "-RtZ4k0JqMfg",
        "colab_type": "code",
        "colab": {}
      },
      "source": [
        "# training & optimization hyper-parameters\n",
        "max_epoch = 20\n",
        "learning_rate = 0.001\n",
        "batch_size = 20000\n",
        "device = 'cuda'\n",
        "\n",
        "# model hyper-parameters\n",
        "output_dim = 10 \n",
        "\n",
        "# Boolean value to select training process\n",
        "training_process = True\n",
        "\n",
        "# initialize tensorboard for visualization\n",
        "# Note : click the Tensorboard link to see the visualization of training/testing results\n",
        "tbc = TensorBoardColab()"
      ],
      "execution_count": 0,
      "outputs": []
    },
    {
      "cell_type": "markdown",
      "metadata": {
        "id": "7TZ5ZP2qrWYJ",
        "colab_type": "text"
      },
      "source": [
        "This is the given baseline CNN architecture."
      ]
    },
    {
      "cell_type": "code",
      "metadata": {
        "id": "qTW84JjgrW57",
        "colab_type": "code",
        "colab": {}
      },
      "source": [
        "class MyClassifier(nn.Module):\n",
        "  def __init__(self):\n",
        "        super(MyClassifier, self).__init__()\n",
        "        self.conv1 = nn.Conv2d(in_channels=3, out_channels=6, kernel_size=5)\n",
        "        self.batchnorm1 = nn.BatchNorm2d(num_features=6)\n",
        "        self.relu = nn.ReLU()\n",
        "        self.pool = nn.MaxPool2d(kernel_size=2, stride=2)\n",
        "        self.conv2 = nn.Conv2d(in_channels=6, out_channels=16, kernel_size=3)\n",
        "        self.conv3 = nn.Conv2d(in_channels=16, out_channels=32, kernel_size=3)\n",
        "        self.batchnorm3 = nn.BatchNorm2d(num_features=32)\n",
        "        self.conv4 = nn.Conv2d(in_channels=32, out_channels=64, kernel_size=1)\n",
        "        self.fc1 = nn.Linear(in_features=64 * 1 * 1, out_features=64)\n",
        "        self.fc2 = nn.Linear(in_features=64, out_features=output_dim)\n",
        "\n",
        "  def forward(self, x):\n",
        "      x = self.pool(self.relu(self.batchnorm1(self.conv1(x))))\n",
        "      x = self.pool(self.relu(self.conv2(x)))\n",
        "      x = self.pool(self.relu(self.batchnorm3(self.conv3(x))))\n",
        "      x = self.pool(self.relu(self.conv4(x)))\n",
        "      x = x.view(-1, 64 * 1 * 1)\n",
        "      x = self.relu(self.fc1(x))\n",
        "      outputs = self.fc2(x)\n",
        "      return outputs"
      ],
      "execution_count": 0,
      "outputs": []
    },
    {
      "cell_type": "markdown",
      "metadata": {
        "id": "ed08AfwfroAN",
        "colab_type": "text"
      },
      "source": [
        "Lastly, this is the part where the network and optimizer is initialized.\n",
        "\n",
        "Note that we are using Adam as our optimizer. Adam is \"an algorithm for first-order gradient-based optimization of stochastic objective functions, based on adaptive estimates of lower-order moments.\" (\"Adam: A Method for Stochastic Optimization\") (*Kingma, Ba*)"
      ]
    },
    {
      "cell_type": "code",
      "metadata": {
        "id": "4viqpHQOrng4",
        "colab_type": "code",
        "colab": {}
      },
      "source": [
        "my_classifier = MyClassifier()\n",
        "my_classifier = my_classifier.to(device)\n",
        "\n",
        "# Print your neural network structure\n",
        "print(my_classifier)\n",
        "\n",
        "optimizer = optim.Adam(my_classifier.parameters(), lr=learning_rate)\n"
      ],
      "execution_count": 0,
      "outputs": []
    },
    {
      "cell_type": "markdown",
      "metadata": {
        "colab_type": "text",
        "id": "XToyw2MOw9w9"
      },
      "source": [
        "This baseline model gave a test accuracy of about 0.62 where the accuracies and the graph of training/test loss came out as the following:"
      ]
    },
    {
      "cell_type": "markdown",
      "metadata": {
        "id": "6u3aNFfLiBP-",
        "colab_type": "text"
      },
      "source": [
        "[epoch:0, iteration:3] test_loss : 1.0157 test accuracy : 0.6521\n",
        "\n",
        "[epoch:1, iteration:6] test_loss : 1.0145 test accuracy : 0.6521\n",
        "\n",
        "[epoch:2, iteration:9] test_loss : 1.0142 test accuracy : 0.6501\n",
        "\n",
        "[epoch:3, iteration:12] test_loss : 1.0136 test accuracy : 0.6487\n",
        "\n",
        "[epoch:4, iteration:15] test_loss : 1.0120 test accuracy : 0.6485\n",
        "\n",
        "[epoch:5, iteration:18] test_loss : 1.0099 test accuracy : 0.6491\n",
        "\n",
        "[epoch:6, iteration:21] test_loss : 1.0073 test accuracy : 0.6509\n",
        "\n",
        "[epoch:7, iteration:24] test_loss : 1.0049 test accuracy : 0.6522\n",
        "\n",
        "[epoch:8, iteration:27] test_loss : 1.0030 test accuracy : 0.6530\n",
        "\n",
        "[epoch:9, iteration:30] test_loss : 1.0015 test accuracy : 0.6523\n",
        "\n",
        "[epoch:10, iteration:33] test_loss : 1.0005 test accuracy : 0.6530\n",
        "\n",
        "[epoch:11, iteration:36] test_loss : 0.9997 test accuracy : 0.6535\n",
        "\n",
        "[epoch:12, iteration:39] test_loss : 0.9991 test accuracy : 0.6529\n",
        "\n",
        "[epoch:13, iteration:42] test_loss : 0.9987 test accuracy : 0.6534\n",
        "\n",
        "[epoch:14, iteration:45] test_loss : 0.9984 test accuracy : 0.6536\n",
        "\n",
        "[epoch:15, iteration:48] test_loss : 0.9981 test accuracy : 0.6536\n",
        "\n",
        "[epoch:16, iteration:51] test_loss : 0.9979 test accuracy : 0.6542\n",
        "\n",
        "[epoch:17, iteration:54] test_loss : 0.9976 test accuracy : 0.6543\n",
        "\n",
        "[epoch:18, iteration:57] test_loss : 0.9975 test accuracy : 0.6542\n",
        "\n",
        "[epoch:19, iteration:60] test_loss : 0.9976 test accuracy : 0.6549"
      ]
    },
    {
      "cell_type": "markdown",
      "metadata": {
        "id": "LIuKnYEVwR2-",
        "colab_type": "text"
      },
      "source": [
        "<figure>\n",
        "<center>\n",
        "<img src='https://i.gyazo.com/d17c7bb9b1786b41f8d88ae8d5cd785a.png'/>\n",
        "<figcaption>Epoch vs. Accuracy (Batch size: 20000)</figcaption></center>"
      ]
    },
    {
      "cell_type": "markdown",
      "metadata": {
        "id": "FbvR7IjIgVU-",
        "colab_type": "text"
      },
      "source": [
        "Now here comes the modification part.\n",
        "\n",
        "Surprisingly, the only modification that I've done to the model was to change the **batch_size** from 20000 (original value) to 18; no change to the basline CNN architecture, no change to learning rate...etc."
      ]
    },
    {
      "cell_type": "code",
      "metadata": {
        "id": "ZRPEPeBkxG2H",
        "colab_type": "code",
        "colab": {}
      },
      "source": [
        "# training & optimization hyper-parameters\n",
        "max_epoch = 20\n",
        "learning_rate = 0.001\n",
        "\n",
        "# My modification\n",
        "# batch_size = 20000 <--- Original code\n",
        "batch_size = 18\n",
        "\n",
        "device = 'cuda'\n",
        "\n",
        "# model hyper-parameters\n",
        "output_dim = 10 \n",
        "\n",
        "# Boolean value to select training process\n",
        "training_process = True\n",
        "\n",
        "# initialize tensorboard for visualization\n",
        "# Note : click the Tensorboard link to see the visualization of training/testing results\n",
        "tbc = TensorBoardColab()"
      ],
      "execution_count": 0,
      "outputs": []
    },
    {
      "cell_type": "markdown",
      "metadata": {
        "id": "2cXRWfWJxQH2",
        "colab_type": "text"
      },
      "source": [
        "This gave a test accuracy of about 0.84 where the accuracies and the graph of training/test loss came out as the following:"
      ]
    },
    {
      "cell_type": "markdown",
      "metadata": {
        "id": "YHMbsak7xV9F",
        "colab_type": "text"
      },
      "source": [
        "[epoch:0, iteration:2000] train loss : 1.3674 train accuracy : 0.4444\n",
        "\n",
        "[epoch:0, iteration:2778] test_loss : 1.3600 test accuracy : 0.8165\n",
        "\n",
        "[epoch:1, iteration:4000] train loss : 0.8239 train accuracy : 0.6667\n",
        "\n",
        "[epoch:1, iteration:5556] test_loss : 1.3395 test accuracy : 0.8246\n",
        "\n",
        "[epoch:2, iteration:6000] train loss : 0.8786 train accuracy : 0.6111\n",
        "\n",
        "[epoch:2, iteration:8000] train loss : 0.8532 train accuracy : 0.7778\n",
        "\n",
        "[epoch:2, iteration:8334] test_loss : 1.3374 test accuracy : 0.8234\n",
        "\n",
        "[epoch:3, iteration:10000] train loss : 0.7807 train accuracy : 0.7222\n",
        "\n",
        "[epoch:3, iteration:11112] test_loss : 1.3282 test accuracy : 0.8263\n",
        "\n",
        "[epoch:4, iteration:12000] train loss : 0.3357 train accuracy : 0.8889\n",
        "\n",
        "[epoch:4, iteration:13890] test_loss : 1.3403 test accuracy : 0.8262\n",
        "\n",
        "[epoch:5, iteration:14000] train loss : 1.1688 train accuracy : 0.7222\n",
        "\n",
        "[epoch:5, iteration:16000] train loss : 0.8268 train accuracy : 0.6111\n",
        "\n",
        "[epoch:5, iteration:16668] test_loss : 1.3433 test accuracy : 0.8291\n",
        "\n",
        "[epoch:6, iteration:18000] train loss : 0.7550 train accuracy : 0.7222\n",
        "\n",
        "[epoch:6, iteration:19446] test_loss : 1.3016 test accuracy : 0.8370\n",
        "\n",
        "checkpoint is saved !\n",
        "\n",
        "[epoch:7, iteration:20000] train loss : 0.6013 train accuracy : 0.8333\n",
        "\n",
        "[epoch:7, iteration:22000] train loss : 1.0191 train accuracy : 0.6111\n",
        "\n",
        "[epoch:7, iteration:22224] test_loss : 1.3300 test accuracy : 0.8326\n",
        "\n",
        "[epoch:8, iteration:24000] train loss : 0.5541 train accuracy : 0.7778\n",
        "\n",
        "[epoch:8, iteration:25002] test_loss : 1.3258 test accuracy : 0.8295\n",
        "\n",
        "[epoch:9, iteration:26000] train loss : 0.8931 train accuracy : 0.7222\n",
        "\n",
        "[epoch:9, iteration:27780] test_loss : 1.3150 test accuracy : 0.8289\n",
        "\n",
        "[epoch:10, iteration:28000] train loss : 1.0763 train accuracy : 0.7222\n",
        "\n",
        "[epoch:10, iteration:30000] train loss : 1.0155 train accuracy : 0.6667\n",
        "\n",
        "[epoch:10, iteration:30558] test_loss : 1.3530 test accuracy : 0.8221\n",
        "\n",
        "[epoch:11, iteration:32000] train loss : 1.1474 train accuracy : 0.6667\n",
        "\n",
        "[epoch:11, iteration:33336] test_loss : 1.3648 test accuracy : 0.8231\n",
        "\n",
        "[epoch:12, iteration:34000] train loss : 0.7002 train accuracy : 0.7222\n",
        "\n",
        "[epoch:12, iteration:36000] train loss : 0.5949 train accuracy : 0.8889\n",
        "\n",
        "[epoch:12, iteration:36114] test_loss : 1.3255 test accuracy : 0.8334\n",
        "\n",
        "[epoch:13, iteration:38000] train loss : 0.7354 train accuracy : 0.7222\n",
        "\n",
        "[epoch:13, iteration:38892] test_loss : 1.3626 test accuracy : 0.8240\n",
        "\n",
        "[epoch:14, iteration:40000] train loss : 0.6993 train accuracy : 0.7222\n",
        "\n",
        "[epoch:14, iteration:41670] test_loss : 1.3499 test accuracy : 0.8253\n",
        "\n",
        "[epoch:15, iteration:42000] train loss : 0.7942 train accuracy : 0.6667\n",
        "\n",
        "[epoch:15, iteration:44000] train loss : 0.4864 train accuracy : 0.8333\n",
        "\n",
        "[epoch:15, iteration:44448] test_loss : 1.3345 test accuracy : 0.8295\n",
        "\n",
        "[epoch:16, iteration:46000] train loss : 0.6438 train accuracy : 0.7222\n",
        "\n",
        "[epoch:16, iteration:47226] test_loss : 1.3599 test accuracy : 0.8282\n",
        "\n",
        "[epoch:17, iteration:48000] train loss : 1.4730 train accuracy : 0.4444\n",
        "\n",
        "[epoch:17, iteration:50000] train loss : 0.8576 train accuracy : 0.7778\n",
        "\n",
        "[epoch:17, iteration:50004] test_loss : 1.3419 test accuracy : 0.8261\n",
        "\n",
        "[epoch:18, iteration:52000] train loss : 1.0811 train accuracy : 0.6111\n",
        "\n",
        "[epoch:18, iteration:52782] test_loss : 1.3340 test accuracy : 0.8285\n",
        "\n",
        "[epoch:19, iteration:54000] train loss : 1.0884 train accuracy : 0.5000\n",
        "\n",
        "[epoch:19, iteration:55560] test_loss : 1.3472 test accuracy : 0.8270\n",
        "\n"
      ]
    },
    {
      "cell_type": "markdown",
      "metadata": {
        "id": "RiR15HMM1l24",
        "colab_type": "text"
      },
      "source": [
        "<figure>\n",
        "<center>\n",
        "<img src='https://i.gyazo.com/c3baa3799370374d1456fc6d896dde0b.png'/>\n",
        "<figcaption>Epoch vs. Accuracy (Batch size: 18)</figcaption></center>"
      ]
    },
    {
      "cell_type": "markdown",
      "metadata": {
        "id": "WP9ExKnDxGFn",
        "colab_type": "text"
      },
      "source": [
        "And it turned out that the accuracy in this case exceeded all the other trials that I have done such as trying to change the CNN architecture by adding layers or changing the parameters of each layer.\n",
        "\n",
        "(The order of how I've done this assignment is, admittedly, a bit unorthodox. But I would argue that this is the very result of empirical trials. An analysis and the direction of further studies are outlined below.)"
      ]
    },
    {
      "cell_type": "markdown",
      "metadata": {
        "id": "r5_EE7ylwYnC",
        "colab_type": "text"
      },
      "source": [
        "# Analysis\n",
        "\n",
        "Rather than focusing on the CNN architecture and how to change it (as you might've expected for me to do), I would like to focus on the effect of the size of batch on the accuracy and the model.\n",
        "\n",
        "The metric that I'll use to describe the effect of batch size on training dynamics is the **generalization gap**: the difference between the classfication accuracy at test and training steps."
      ]
    },
    {
      "cell_type": "markdown",
      "metadata": {
        "id": "AoQgNti7xxxK",
        "colab_type": "text"
      },
      "source": [
        "Batch learning was introduced to take into account the limited avenue for parallelization for original stochastic gradient methods. As shown in [4], practicing deep-learning people observed that *the generalization gap is rather big when trained with large-batch methods rather than small-batch methods*. But it has not yet been theoretically proven of why this is the case."
      ]
    },
    {
      "cell_type": "markdown",
      "metadata": {
        "id": "B_mhI9NV2Oo4",
        "colab_type": "text"
      },
      "source": [
        "Several researches have been carried out relating to the effect of batch size on the performance of certain model in Deep Learning. One of them, [3], proposed the following conjectures for possible causes of such phenomenon:\n",
        "\n",
        "\n",
        "1.   Large-batch methods overfit the model\n",
        "2.   Large-batch methods are attracted to saddle points\n",
        "3.   Large-batch methods lack the *explorative* properties of small-batch methods and tend to zoom-in on the minimizer closest to the initial point.\n",
        "4.   Small-batch and large-batch methods converge to qualitatively different minimizers with differing generalization properties.\n",
        "\n",
        "And they actually presented some datas that seem to support the last two conjectures."
      ]
    },
    {
      "cell_type": "markdown",
      "metadata": {
        "id": "vydFOP7R3rfR",
        "colab_type": "text"
      },
      "source": [
        "The following is the main observation of this paper, and the reason why this little modification made such a big difference in model accuracy:\n",
        "\n",
        "The lack of generalization ability is due to the fact that **large-batch methods tend to convergen to sharp minimizers of the training function** while **small-batch methods tend to convergen to flat minimizers of the training function**\n",
        "\n",
        "*   *Sharp minimizers* are characterized by a significant number of large positive eigenvalues in the Hessian of the training function, and tend to generalize less well as shown in the diagram.\n",
        "*   *Flat minimizers* are characterized by a significant number of small eigenvalues in the Hessian of the training function, and tend to generalize  well, as shown in the diagram.\n",
        "\n",
        "They have observed that the loss function landscape of deep neural networks, such as our CNN, is such that large-batch methods are attracted to regions with sharp minimizers and that, unlike small-batch methods, are unable to escape basins of attraction of these minimizers.\n",
        "\n",
        "<a href=\"https://gyazo.com/a5d8f5f470c196619a7ba6b8e5417dff\"><img src=\"https://i.gyazo.com/a5d8f5f470c196619a7ba6b8e5417dff.png\" alt=\"Image from Gyazo\" width=\"598\"/></a>"
      ]
    },
    {
      "cell_type": "markdown",
      "metadata": {
        "id": "iqB3VPBE4CGH",
        "colab_type": "text"
      },
      "source": [
        "Note that flat minimizer can be specified with lower precision than to sharp minimizer. Equivalently, flat minimizers tend to have better generalization performance."
      ]
    },
    {
      "cell_type": "markdown",
      "metadata": {
        "id": "AGYmcWUT4wx_",
        "colab_type": "text"
      },
      "source": [
        "Following is the result of the experiments done in the paper. For all experiments, they've used 10% of the training data as the large-batch size and 256 data points for small-batch size. Also, they've used ADAM optimizer, the same as our model's optimizer."
      ]
    },
    {
      "cell_type": "markdown",
      "metadata": {
        "id": "rRgY4ir75RJc",
        "colab_type": "text"
      },
      "source": [
        "<a href=\"https://gyazo.com/19441b359b46f7fa990816cab4ad9f97\"><img src=\"https://i.gyazo.com/19441b359b46f7fa990816cab4ad9f97.png\" alt=\"Image from Gyazo\" width=\"586\"/></a>\n",
        "\n",
        "<a href=\"https://gyazo.com/16788fc2c402a6c56aae8aefdaf0356b\"><img src=\"https://i.gyazo.com/16788fc2c402a6c56aae8aefdaf0356b.png\" alt=\"Image from Gyazo\" width=\"593\"/></a>\n",
        "\n",
        "<a href=\"https://gyazo.com/6253804bdbca58040bcc27aed39a8dcd\"><img src=\"https://i.gyazo.com/6253804bdbca58040bcc27aed39a8dcd.png\" alt=\"Image from Gyazo\" width=\"591\"/></a>\n",
        "\n",
        "(Here, SB refers to the small-batch method and LB refers to the large-batch method)"
      ]
    },
    {
      "cell_type": "markdown",
      "metadata": {
        "id": "LPzMVNh06x2M",
        "colab_type": "text"
      },
      "source": [
        "Above paper([3]), what I think, is the main reason for the drastic improvement of the performance of my model despite having only changed the batch size."
      ]
    },
    {
      "cell_type": "markdown",
      "metadata": {
        "id": "MmrtbjQEnvVw",
        "colab_type": "text"
      },
      "source": [
        "# References / Further Readings\n",
        "[1] https://medium.com/mini-distill/effect-of-batch-size-on-training-dynamics-21c14f7a716e\n",
        "\n",
        "[2] https://stats.stackexchange.com/questions/164876/tradeoff-batch-size-vs-number-of-iterations-to-train-a-neural-network\n",
        "\n",
        "[3] https://arxiv.org/pdf/1609.04836.pdf (\"On Large-Batch Training for Deep Learning: Generalization Gap and Sharp Minima\") (*Keskar, Mudigere, Nocedal, Smelyanskiy, Tang*)\n",
        "\n",
        "[4] https://cseweb.ucsd.edu/classes/wi08/cse253/Handouts/lecun-98b.pdf (\"Efficient Backdrop\") (*LeCun, Bottou, Orr, Muller*)"
      ]
    }
  ]
}
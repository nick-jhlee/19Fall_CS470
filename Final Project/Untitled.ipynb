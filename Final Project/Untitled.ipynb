{
 "cells": [
  {
   "cell_type": "code",
   "execution_count": 2,
   "metadata": {},
   "outputs": [],
   "source": [
    "import torch\n",
    "import torch.nn as nn\n",
    "import torch.nn.functional as F\n",
    "\n",
    "class Model_CNN(nn.Module):\n",
    "    def __init__(self):\n",
    "        super(Model_CNN, self).__init__()\n",
    "        # height and width dimensions are different\n",
    "        self.conv1 = nn.Conv2d(3, 34, (2, 14)).cuda()\n",
    "        self.pool = nn.MaxPool2d(2, 2).cuda()\n",
    "        self.conv2 = nn.Conv2d(34, 34, (2, 14)).cuda()\n",
    "        self.conv3 = nn.Conv2d(34, 64, 5).cuda()\n",
    "        self.conv4 = nn.Conv2d(64, 96, 5).cuda()\n",
    "        self.conv5 = nn.Conv2d(96, 128, 5).cuda()\n",
    "        self.fc1 = nn.Linear(128 * 8 * 6, 200).cuda()\n",
    "        self.fc2 = nn.Linear(200, 128).cuda()\n",
    "        self.fc3 = nn.Linear(128, 10).cuda()\n",
    "\n",
    "    def forward(self, x):\n",
    "        x = self.pool(F.relu(self.conv1(x)))\n",
    "        x = self.pool(F.relu(self.conv2(x)))\n",
    "        x = self.pool(F.relu(self.conv3(x)))\n",
    "        x = self.pool(F.relu(self.conv4(x)))\n",
    "        x = F.relu(self.conv5(x))\n",
    "        #print(x.shape)\n",
    "        #print(x.size(0))\n",
    "        x = x.view(x.size(0), -1)\n",
    "        x = F.relu(self.fc1(x))\n",
    "        x = F.relu(self.fc2(x))\n",
    "        x = self.fc3(x)\n",
    "        return x\n",
    "\n",
    "class Model_CNN_Mel(nn.Module):\n",
    "    def __init__(self):\n",
    "        super(Model_CNN_Mel, self).__init__()\n",
    "        # height and width dimensions are different\n",
    "        self.conv1 = nn.Conv2d(3, 16, (3, 7)).cuda()\n",
    "        self.conv2 = nn.Conv2d(16, 32, (3, 7)).cuda()\n",
    "        self.pool1 = nn.MaxPool2d(3, 7).cuda()\n",
    "        self.conv3 = nn.Conv2d(32, 64, 3).cuda()\n",
    "        self.conv4 = nn.Conv2d(64, 96, 3).cuda()\n",
    "        self.pool2 = nn.MaxPool2d(3, 3).cuda()\n",
    "        self.conv5 = nn.Conv2d(96, 128, 3).cuda()\n",
    "        self.fc1 = nn.Linear(128 * 8 * 8, 128).cuda()\n",
    "        self.fc2 = nn.Linear(128, 64).cuda()\n",
    "        self.fc3 = nn.Linear(64, 10).cuda()\n",
    "\n",
    "    def forward(self, x):\n",
    "        x = F.relu(self.conv1(x))\n",
    "        x = self.pool1(F.relu(self.conv2(x)))\n",
    "        x = F.relu(self.conv3(x))\n",
    "        x = self.pool2(F.relu(self.conv4(x)))\n",
    "        x = F.relu(self.conv5(x))\n",
    "        #print(x.shape)\n",
    "        #print(x.size(0))\n",
    "        x = x.view(x.size(0), -1)\n",
    "        x = F.relu(self.fc1(x))\n",
    "        x = F.relu(self.fc2(x))\n",
    "        x = self.fc3(x)\n",
    "        return x"
   ]
  },
  {
   "cell_type": "code",
   "execution_count": 3,
   "metadata": {},
   "outputs": [],
   "source": [
    "model1 = Model_CNN()\n",
    "model2 = Model_CNN_Mel()"
   ]
  },
  {
   "cell_type": "code",
   "execution_count": 12,
   "metadata": {},
   "outputs": [],
   "source": [
    "torch.save(model1, 'Model_CNN.pt')"
   ]
  },
  {
   "cell_type": "code",
   "execution_count": 4,
   "metadata": {},
   "outputs": [
    {
     "name": "stderr",
     "output_type": "stream",
     "text": [
      "C:\\Users\\Nick\\Anaconda3\\lib\\site-packages\\torch\\serialization.py:256: UserWarning: Couldn't retrieve source code for container of type Model_CNN_Mel. It won't be checked for correctness upon loading.\n",
      "  \"type \" + obj.__name__ + \". It won't be checked \"\n"
     ]
    }
   ],
   "source": [
    "torch.save(model2, 'Model_CNN_Mel.pt')"
   ]
  },
  {
   "cell_type": "code",
   "execution_count": null,
   "metadata": {},
   "outputs": [],
   "source": []
  }
 ],
 "metadata": {
  "kernelspec": {
   "display_name": "Python 3",
   "language": "python",
   "name": "python3"
  },
  "language_info": {
   "codemirror_mode": {
    "name": "ipython",
    "version": 3
   },
   "file_extension": ".py",
   "mimetype": "text/x-python",
   "name": "python",
   "nbconvert_exporter": "python",
   "pygments_lexer": "ipython3",
   "version": "3.7.3"
  }
 },
 "nbformat": 4,
 "nbformat_minor": 2
}
